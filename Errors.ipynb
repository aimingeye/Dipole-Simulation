{
 "cells": [
  {
   "cell_type": "code",
   "execution_count": 1,
   "metadata": {
    "mimeType": "text/x-ipython",
    "tags": []
   },
   "outputs": [],
   "source": [
    "import numpy as np\n",
    "import matplotlib.pyplot as plt"
   ]
  },
  {
   "cell_type": "code",
   "execution_count": 2,
   "metadata": {},
   "outputs": [],
   "source": [
    "# #d>>e#q<<1\n",
    "\n",
    "# q = 1e-6\n",
    "# d = 1e-6\n",
    "# w = np.pi\n",
    "# e = 1e-12\n",
    "# c = 1\n",
    "# ##epsilon_0 = 1e-9\n",
    "# epsilon_0 = 1\n",
    "# #mu_0 = 1\n",
    "# ##mu_0 = 4*np.pi*e-10\n",
    "# mu_0 = 1\n"
   ]
  },
  {
   "cell_type": "code",
   "execution_count": 3,
   "metadata": {},
   "outputs": [],
   "source": [
    "d = 0.5\n",
    "q = 1e-5\n",
    "w = np.pi\n",
    "e = 1e-1\n",
    "c = 299792458.0\n",
    "global R\n",
    "R = 1e-1\n",
    "##epsilon_0 = 1e-9\n",
    "epsilon_0 = 8.85418e-12\n",
    "#mu_0 = 1\n",
    "##mu_0 = 4*np.pi*e-10\n",
    "mu_0 = 4*np.pi*e-7"
   ]
  },
  {
   "cell_type": "code",
   "execution_count": 4,
   "metadata": {
    "mimeType": "text/x-ipython",
    "tags": []
   },
   "outputs": [],
   "source": [
    "def rho(r,d,w,t,e,q):       \n",
    "    if np.linalg.norm(r-d/2*np.array([0,0,1], float))<e:\n",
    "        return q*(1/e**3)*np.cos(w*t)\n",
    "    elif np.linalg.norm(r+d/2*np.array([0,0,1], float))<e:  \n",
    "        return -q*(1/e**3)*np.cos(w*t)       \n",
    "    else:                  \n",
    "        return 0"
   ]
  },
  {
   "cell_type": "code",
   "execution_count": 5,
   "metadata": {
    "mimeType": "text/x-ipython",
    "tags": []
   },
   "outputs": [],
   "source": [
    "def j(r,d,w,t,e, q):  \n",
    "    if np.sqrt(r[0]**2+r[1]**2)<e and -d/2+e/2<r[2]<d/2-e/2:   \n",
    "        return -4/3*w*q*np.sin(w*t)*np.array([0,0,1], float)/e**2   \n",
    "    else:                 \n",
    "        return np.zeros(3)"
   ]
  },
  {
   "cell_type": "code",
   "execution_count": 6,
   "metadata": {
    "mimeType": "text/x-ipython",
    "tags": []
   },
   "outputs": [],
   "source": [
    "import scipy.integrate"
   ]
  },
  {
   "cell_type": "code",
   "execution_count": 7,
   "metadata": {
    "mimeType": "text/x-ipython",
    "tags": []
   },
   "outputs": [],
   "source": [
    "#scipy.integrate.tplquad?"
   ]
  },
  {
   "cell_type": "code",
   "execution_count": null,
   "metadata": {
    "mimeType": "text/x-ipython",
    "tags": []
   },
   "outputs": [],
   "source": []
  },
  {
   "cell_type": "code",
   "execution_count": 8,
   "metadata": {
    "mimeType": "text/x-ipython",
    "tags": []
   },
   "outputs": [],
   "source": [
    "Rho = lambda r,t: rho(np.array([r[2],r[1],r[0]],float),d,w,t,e,q)\n",
    "J = lambda r,t: j(np.array([r[2],r[1],r[0]], float),d,w,t,e,q)"
   ]
  },
  {
   "cell_type": "code",
   "execution_count": 9,
   "metadata": {
    "mimeType": "text/x-ipython",
    "tags": []
   },
   "outputs": [],
   "source": [
    "def phi_integrand(rho, r, r_p, t, epsilon=1e-8):    \n",
    "#     if np.linalg.norm(r-r_p) < epsilon:           \n",
    "#         return 0        \n",
    "#     else:           \n",
    "    return 1/(4*np.pi*epsilon_0)*(rho(r_p,t-np.linalg.norm(r-r_p)/c))/np.linalg.norm(r-r_p)\n",
    "def A_integrand(j,r,r_p,t, epsilon=1e-8):               \n",
    "    if np.linalg.norm(r-r_p) < epsilon:         \n",
    "        return np.zeros(3)       \n",
    "    else:             \n",
    "        return mu_0/(4*np.pi)*(j(r_p,t-np.linalg.norm(r-r_p)/c))/np.linalg.norm(r-r_p)\n",
    "                    "
   ]
  },
  {
   "cell_type": "code",
   "execution_count": 10,
   "metadata": {
    "mimeType": "text/x-ipython",
    "tags": []
   },
   "outputs": [],
   "source": [
    "def phi(r,t):    \n",
    "    return scipy.integrate.tplquad(lambda x,y,z: phi_integrand(Rho, r, np.array([x,y,z], float), t),          \n",
    "                                   -np.inf,                                                  \n",
    "                                   np.inf,                                                   \n",
    "                                   lambda x: -np.inf,                                        \n",
    "                                   lambda x: np.inf,                                         \n",
    "                                   lambda x,y: -np.inf,                                     \n",
    "                                   lambda x,y: np.inf                                          \n",
    "                                  )\n",
    "def A(r,t):       \n",
    "    return np.array([scipy.integrate.tplquad(lambda x,y,z: A_integrand(J, r, np.array([x,y,z], float), t)[i],       \n",
    "                                             -np.inf,                                                      \n",
    "                                             np.inf,                       \n",
    "                                             lambda x: -np.inf,   \n",
    "                                             lambda x: np.inf,    \n",
    "                                             lambda x,y: -np.inf, \n",
    "                                             lambda x,y: np.inf   \n",
    "                                            )  for i in range(3)],float)"
   ]
  },
  {
   "cell_type": "code",
   "execution_count": 11,
   "metadata": {
    "mimeType": "text/x-ipython",
    "tags": []
   },
   "outputs": [
    {
     "data": {
      "text/plain": [
       "array([0.        , 0.        , 5.11659437])"
      ]
     },
     "execution_count": 11,
     "metadata": {},
     "output_type": "execute_result"
    }
   ],
   "source": [
    "A_integrand(J,np.array([1e-4,2e-4,3e-4]),np.array([0,0,0], float), 0.5)"
   ]
  },
  {
   "cell_type": "code",
   "execution_count": 12,
   "metadata": {
    "mimeType": "text/x-ipython",
    "tags": []
   },
   "outputs": [
    {
     "data": {
      "text/plain": [
       "(0.0, 0)"
      ]
     },
     "execution_count": 12,
     "metadata": {},
     "output_type": "execute_result"
    }
   ],
   "source": [
    "scipy.integrate.tplquad(lambda x,y,z:0,-np.inf,np.inf, \n",
    "                        lambda x: -np.inf,             \n",
    "                        lambda x: np.inf,              \n",
    "                        lambda x,y: -np.inf,  \n",
    "                        lambda x,y: np.inf)"
   ]
  },
  {
   "cell_type": "code",
   "execution_count": 13,
   "metadata": {
    "jupyter": {
     "outputs_hidden": true
    },
    "mimeType": "text/x-ipython",
    "scrolled": false,
    "tags": []
   },
   "outputs": [
    {
     "data": {
      "text/plain": [
       "(-1.1136859301147075e-13, 4.296613678043815e-10)"
      ]
     },
     "execution_count": 13,
     "metadata": {},
     "output_type": "execute_result"
    }
   ],
   "source": [
    "phi(np.array([13,2,5], float), 0.5)"
   ]
  },
  {
   "cell_type": "code",
   "execution_count": 14,
   "metadata": {
    "mimeType": "text/x-ipython",
    "tags": []
   },
   "outputs": [],
   "source": [
    "#import matplotlib.pyplot as pltfig, ax = plt.subplots()"
   ]
  },
  {
   "cell_type": "code",
   "execution_count": 15,
   "metadata": {
    "mimeType": "text/x-ipython",
    "tags": []
   },
   "outputs": [
    {
     "data": {
      "text/plain": [
       "array([-0.        , -0.        , -0.00418879])"
      ]
     },
     "execution_count": 15,
     "metadata": {},
     "output_type": "execute_result"
    }
   ],
   "source": [
    "j(np.array([0,0,0.00064371],float),d,w,0.5,e,q)"
   ]
  },
  {
   "cell_type": "code",
   "execution_count": 16,
   "metadata": {
    "mimeType": "text/x-ipython",
    "tags": []
   },
   "outputs": [
    {
     "data": {
      "text/plain": [
       "array([-0.        , -0.        , -0.00418879])"
      ]
     },
     "execution_count": 16,
     "metadata": {},
     "output_type": "execute_result"
    }
   ],
   "source": [
    "J(np.array([0,0,0], float), 0.5)"
   ]
  },
  {
   "cell_type": "code",
   "execution_count": 17,
   "metadata": {
    "mimeType": "text/x-ipython",
    "tags": []
   },
   "outputs": [],
   "source": [
    "# scipy.integrate.tplquad(lambda z,y,x: np.exp(-x**2-y**2-z**2),                               \n",
    "#                         -np.inf,                                                       \n",
    "#                         np.inf,                                                        \n",
    "#                         lambda x: -np.inf,                                             \n",
    "#                         lambda x: np.inf,                                              \n",
    "#                         lambda x,y: -np.inf,                                           \n",
    "#                         lambda x,y: np.inf                                                          )"
   ]
  },
  {
   "cell_type": "code",
   "execution_count": 18,
   "metadata": {
    "mimeType": "text/x-ipython",
    "tags": []
   },
   "outputs": [],
   "source": [
    "# np.array([scipy.integrate.tplquad(lambda x,y,z: np.exp(-x**2-y**2-z**2),  \n",
    "#                                   -np.inf,                                                                                                        np.inf,                                                                                                    lambda x: -np.inf,                                                                                         lambda x: np.inf,                                                                                           lambda x,y: -np.inf,                                                                                         lambda x,y: np.inf                                                                                             )  for i in range(3)],float)"
   ]
  },
  {
   "cell_type": "code",
   "execution_count": 21,
   "metadata": {
    "scrolled": true
   },
   "outputs": [
    {
     "data": {
      "text/plain": [
       "<mpl_toolkits.mplot3d.art3d.Poly3DCollection at 0x1b3c0d77280>"
      ]
     },
     "execution_count": 21,
     "metadata": {},
     "output_type": "execute_result"
    },
    {
     "data": {
      "image/png": "[encoded data removed]",
      "text/plain": [
       "<Figure size 432x288 with 1 Axes>"
      ]
     },
     "metadata": {
      "needs_background": "light"
     },
     "output_type": "display_data"
    }
   ],
   "source": [
    "import matplotlib.pyplot as plt\n",
    "x, y = np.meshgrid(np.arange(-1,1,0.1), np.arange(-1,1,0.1))\n",
    "ax = plt.subplot(projection='3d')\n",
    "f = np.vectorize(lambda x,y:phi_integrand(Rho,np.array([1,2,3], float),np.array([x,y,d/2],float),0.25),signature=\"(),()->()\")\n",
    "ax.plot_surface(x,y,f(x,y))"
   ]
  },
  {
   "cell_type": "code",
   "execution_count": 22,
   "metadata": {},
   "outputs": [
    {
     "data": {
      "text/plain": [
       "<mpl_toolkits.mplot3d.art3d.Poly3DCollection at 0x1b3c14570a0>"
      ]
     },
     "execution_count": 22,
     "metadata": {},
     "output_type": "execute_result"
    },
    {
     "data": {
      "image/png": "[encoded data removed]",
      "text/plain": [
       "<Figure size 432x288 with 1 Axes>"
      ]
     },
     "metadata": {
      "needs_background": "light"
     },
     "output_type": "display_data"
    }
   ],
   "source": [
    "import matplotlib.pyplot as plt\n",
    "x, y = np.meshgrid(np.arange(-1,1,0.1), np.arange(-1,1,0.1))\n",
    "ax = plt.subplot(projection='3d')\n",
    "f = np.vectorize(lambda x,y:A_integrand(J,np.array([x,y,0], float),np.zeros(3),0)[2],signature=\"(),()->()\")\n",
    "ax.plot_surface(x,y,f(x,y))"
   ]
  },
  {
   "cell_type": "code",
   "execution_count": null,
   "metadata": {},
   "outputs": [],
   "source": [
    "# x, y = np.meshgrid(np.arange(-0.5,0.5,0.25), np.arange(-0.5,0.5,0.25))\n",
    "# ax = plt.subplot(projection='3d')\n",
    "# f = np.vectorize(lambda x,y:A(np.array([x,y,0], float),0.5)[2][0],signature=\"(),()->()\")\n",
    "# ax.plot_surface(x,y,f(x,y))"
   ]
  },
  {
   "cell_type": "code",
   "execution_count": 23,
   "metadata": {},
   "outputs": [],
   "source": [
    "def A(r,t):       \n",
    "    return np.array([scipy.integrate.tplquad(lambda x,y,z: A_integrand(J, r, np.array([x,y,z], float), t)[i],       \n",
    "                                             -1,                                                      \n",
    "                                             1,                       \n",
    "                                             lambda x: -1,   \n",
    "                                             lambda x: 1,    \n",
    "                                             lambda x,y: -1, \n",
    "                                             lambda x,y: 1   \n",
    "                                            )  for i in range(3)],float)"
   ]
  },
  {
   "cell_type": "code",
   "execution_count": 24,
   "metadata": {},
   "outputs": [
    {
     "data": {
      "text/plain": [
       "array([[-0.00000000e+00,  0.00000000e+00],\n",
       "       [-0.00000000e+00,  0.00000000e+00],\n",
       "       [-2.28849218e-13,  1.22643766e-11]])"
      ]
     },
     "execution_count": 24,
     "metadata": {},
     "output_type": "execute_result"
    }
   ],
   "source": [
    "A(np.array([0.01,0.01,0.01], float),0)"
   ]
  },
  {
   "cell_type": "code",
   "execution_count": 25,
   "metadata": {},
   "outputs": [
    {
     "data": {
      "text/plain": [
       "array([0.        , 0.        , 0.00018956])"
      ]
     },
     "execution_count": 25,
     "metadata": {},
     "output_type": "execute_result"
    }
   ],
   "source": [
    "A_integrand(J,np.array([1,1,10], float),np.zeros(3),0.5)"
   ]
  },
  {
   "cell_type": "code",
   "execution_count": null,
   "metadata": {
    "scrolled": true
   },
   "outputs": [],
   "source": [
    "# %matplotlib qt\n",
    "# from matplotlib.animation import FuncAnimation\n",
    "# x, y = np.meshgrid(np.arange(-1,1,0.1), np.arange(-1,1,0.1))\n",
    "# fig = plt.figure()\n",
    "# ax = plt.subplot(projection='3d')\n",
    "# f = np.vectorize(lambda x,y,t:A_integrand(J,np.array([x,y,0], float),np.zeros(3),t)[2]*1e-8,signature=\"(),(),()->()\")\n",
    "# def update(t):\n",
    "#     ax.clear()\n",
    "#     ax.plot_surface(x,y,f(x,y,t))\n",
    "#     ax.set_zlim(-1,1)\n",
    "# anim = FuncAnimation(fig,update, frames=np.linspace(0,2,60*4), interval=1/60)\n",
    "# anim.save(\"a.gif\")"
   ]
  },
  {
   "cell_type": "code",
   "execution_count": null,
   "metadata": {},
   "outputs": [],
   "source": [
    "# ani.save()"
   ]
  },
  {
   "cell_type": "code",
   "execution_count": 26,
   "metadata": {},
   "outputs": [],
   "source": [
    "def phi(r,t):    \n",
    "    return scipy.integrate.tplquad(lambda x,y,z: phi_integrand(Rho, r, np.array([x,y,z], float), t),          \n",
    "                                   -1,                                                      \n",
    "                                    1,                       \n",
    "                                    lambda x: -1,   \n",
    "                                    lambda x: 1,    \n",
    "                                    lambda x,y: -1, \n",
    "                                    lambda x,y: 1                                           \n",
    "                                  )"
   ]
  },
  {
   "cell_type": "code",
   "execution_count": null,
   "metadata": {
    "scrolled": true
   },
   "outputs": [],
   "source": []
  },
  {
   "cell_type": "code",
   "execution_count": 27,
   "metadata": {},
   "outputs": [
    {
     "data": {
      "text/plain": [
       "(3.015211599676541e-13, 2.304795704687643e-11)"
      ]
     },
     "execution_count": 27,
     "metadata": {},
     "output_type": "execute_result"
    }
   ],
   "source": [
    "phi(np.array([5,10,11], float), 0.5)"
   ]
  },
  {
   "cell_type": "code",
   "execution_count": 28,
   "metadata": {},
   "outputs": [],
   "source": [
    "# import matplotlib.pyplot as plt\n",
    "# x, y = np.meshgrid(np.arange(-10,10,2), np.arange(-10,10,2))\n",
    "# ax = plt.subplot(projection='3d')\n",
    "# f = np.vectorize(lambda x,y:1e12*phi(np.array([x,y,5],float),0.5)[0],signature=\"(),()->()\")\n",
    "# ax.plot_surface(x,y,f(x,y))"
   ]
  },
  {
   "cell_type": "code",
   "execution_count": 29,
   "metadata": {},
   "outputs": [],
   "source": [
    "import scipy as sp\n",
    "import numdifftools as nd"
   ]
  },
  {
   "cell_type": "code",
   "execution_count": 30,
   "metadata": {},
   "outputs": [],
   "source": [
    "def curl(f,x):\n",
    "    jac = nd.Jacobian(f)(x)\n",
    "    #return np.array([jac[2,1]-jac[1,2],jac[0,2]-jac[2,0],jac[1,0]-jac[0,1]])\n",
    "    return jac\n",
    "def B(x,t):\n",
    "    return curl(lambda x: 1e12*A(x,t), x)"
   ]
  },
  {
   "cell_type": "code",
   "execution_count": null,
   "metadata": {},
   "outputs": [],
   "source": [
    "B(np.array([1e-2,1e-1,3e-1]),0)"
   ]
  },
  {
   "cell_type": "code",
   "execution_count": null,
   "metadata": {},
   "outputs": [],
   "source": [
    "def B(r,t,A, epsilon):\n",
    "    return np.array([\n",
    "        (A(r+epsilon(np.array([1 if j==i else 0 for j in range(3)],float)),t)-A(r,t))/epsilon\n",
    "    ] for i in range(3)\n",
    "    )"
   ]
  }
 ],
 "metadata": {
  "kernelspec": {
   "display_name": "Python 3",
   "language": "python",
   "name": "python3"
  },
  "language_info": {
   "codemirror_mode": {
    "name": "ipython",
    "version": 3
   },
   "file_extension": ".py",
   "mimetype": "text/x-python",
   "name": "python",
   "nbconvert_exporter": "python",
   "pygments_lexer": "ipython3",
   "version": "3.8.10"
  }
 },
 "nbformat": 4,
 "nbformat_minor": 4
}
